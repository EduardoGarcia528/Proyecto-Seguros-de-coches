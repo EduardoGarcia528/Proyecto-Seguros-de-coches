{
  "cells": [
    {
      "cell_type": "markdown",
      "metadata": {
        "id": "view-in-github",
        "colab_type": "text"
      },
      "source": [
        "<a href=\"https://colab.research.google.com/github/EduardoGarcia528/Proyecto-Seguros-de-coches/blob/main/Proyecto_Seguros.ipynb\" target=\"_parent\"><img src=\"https://colab.research.google.com/assets/colab-badge.svg\" alt=\"Open In Colab\"/></a>"
      ]
    },
    {
      "cell_type": "markdown",
      "metadata": {
        "id": "PKFHxOCL2S2f"
      },
      "source": [
        "# Proyecto: Generación de Datos Simulados para Seguros de Automóviles\n",
        "\n",
        "En este notebook se reporta el proyecto de seguros de autos\n"
      ]
    },
    {
      "cell_type": "markdown",
      "metadata": {
        "id": "8VK5E8-B2S2f"
      },
      "source": [
        "## Descripción del Proyecto:\n",
        "El proyecto se divide en dos partes principales:\n",
        "1.\tAnálisis de Datos:\n",
        "\n",
        "    * Generación de un conjunto de datos simulados que incluya información sobre pólizas de seguro, siniestros, tipo de cobertura, modelo del coche, entre otros.\n",
        "\n",
        "    * Exploración y análisis de los datos utilizando técnicas como visualizaciones, análisis estadístico y correlaciones.\n",
        "\n",
        "    * Aplicación de al menos seis análisis diferentes, incluyendo distribución de montos de reclamo, relación entre variables, análisis de tendencias y correlaciones.\n",
        "\n",
        "2.\tDesarrollo y Despliegue de Modelo Predictivo:\n",
        "    \n",
        "    * Selección de un modelo de Machine Learning adecuado para predecir alguna variable relevante basada en el conjunto de datos analizado.\n",
        "\n",
        "    * Entrenamiento del modelo seleccionado utilizando técnicas de validación cruzada y ajuste de hiperparámetros si es necesario.\n",
        "\n",
        "    * Desarrollo de una aplicación web utilizando Streamlit que permita a los usuarios introducir datos y obtener predicciones del modelo en tiempo real.\n",
        "\n",
        "    * Despliegue de la aplicación en un entorno accesible para su uso.\n",
        "\n",
        "Variables Generadas:\n",
        "\n",
        "    Número de póliza: Se asigna un identificador único a cada póliza de seguro generado. El número de póliza sigue el formato \"PXXXXX\", donde \"XXXXX\" es un número único rellenado con ceros a la izquierda para mantener una longitud constante de cinco dígitos.\n",
        "\n",
        "    Fechas de inicio y vencimiento: Se generan fechas de inicio y vencimiento aleatorias dentro del rango de tiempo comprendido entre el 1 de enero de 2022 y el 31 de diciembre de 2025.\n",
        "\n",
        "    Tipo de cobertura: Se asigna aleatoriamente uno de los siguientes tipos de cobertura a cada póliza de seguro: responsabilidad civil, cobertura total, cobertura de colisión, cobertura amplia y cobertura de robo.\n",
        "\n",
        "    Modelo del coche: Se elige aleatoriamente un modelo de automóvil de una lista predefinida que incluye marcas como Toyota Corolla, Honda Civic, Ford Focus, Chevrolet Cruze y Nissan Sentra. Las probabilidades de selección están predefinidas para cada modelo.\n",
        "\n",
        "    Año del coche: Se genera aleatoriamente el año de fabricación del automóvil asegurado, variando entre 2010 y 2022.\n",
        "\n",
        "    Valor asegurado: Se asigna un valor asegurado aleatorio entre $10,000 y $50,000 para cada póliza de seguro.\n",
        "\n",
        "    Deducible: Se elige aleatoriamente un deducible de $500, $600 o $700 para cada póliza de seguro.\n",
        "\n",
        "    Estado del seguro: Se asigna aleatoriamente el estado del seguro como \"Al día\" o \"Vencido\" para cada póliza.\n",
        "\n",
        "    Gastos médicos y Daños a terceros: Se generan aleatoriamente valores binarios (0 o 1) para indicar la presencia o ausencia de siniestros relacionados con gastos médicos y daños a terceros, respectivamente."
      ]
    },
    {
      "cell_type": "markdown",
      "metadata": {
        "id": "RSLfiVpB2S2g"
      },
      "source": [
        "1.\tGeneración de Datos Simulados:"
      ]
    },
    {
      "cell_type": "code",
      "execution_count": null,
      "metadata": {
        "id": "m8KZmqXb2S2g"
      },
      "outputs": [],
      "source": [
        "import pandas as pd\n",
        "import numpy as np\n",
        "import datetime\n",
        "import random\n",
        "from datetime import datetime, timedelta\n",
        "\n",
        "\n",
        "# Función para generar fechas aleatorias dentro de un rango\n",
        "def generate_random_date(start_date_str, end_date_str):\n",
        "    start_date = datetime.strptime(start_date_str, '%d%m%y')\n",
        "    end_date = datetime.strptime(end_date_str, '%d%m%y')\n",
        "\n",
        "    days_difference = (end_date - start_date).days\n",
        "\n",
        "    random_days = random.randint(0, days_difference)\n",
        "\n",
        "    random_date = start_date + timedelta(days=random_days)\n",
        "    final_date = random_date + timedelta(days= random.choice([365, 182, 92, 32]))\n",
        "    return [random_date.strftime('%d-%m-%Y'), final_date.strftime('%d-%m-%Y')]\n",
        "\n",
        "\n",
        "# Semilla para reproducibilidad\n",
        "random.seed(1984)\n",
        "\n",
        "# Generar 10,000 casos simulados\n",
        "list_fechas = [generate_random_date('010122', '311224') for _ in range(10000)]\n",
        "Vencidas = ['Vencido' if pd.to_datetime(fecha[1]) < datetime.now() else 'Al día' for fecha in list_fechas]\n",
        "\n",
        "# Tipos de cobertura\n",
        "coverage_types = ['Responsabilidad civil', 'Cobertura total', 'Cobertura de colisión', 'Cobertura amplia', 'Cobertura de robo']\n",
        "\n",
        "# Modelos de coches y probabilidades de ocurrencia\n",
        "car_models = ['Toyota Corolla', 'Honda Civic', 'Ford Focus', 'Chevrolet Cruze', 'Nissan Sentra',\n",
        "              'Hyundai Elantra', 'Volkswagen Jetta', 'Kia Forte', 'Mazda 3', 'Subaru Impreza']\n",
        "\n",
        "probabilities = [0.2, 0.15, 0.12, 0.1, 0.08, 0.1, 0.08, 0.07, 0.05, 0.05]\n",
        "\n",
        "# Generar datos simulados\n",
        "data = {\n",
        "    'Número de póliza': np.char.add('P', np.char.zfill(np.random.choice(np.arange(0,50000), size = 10000, replace = False).astype(str), 5)),\n",
        "    'Fecha de inicio': [elemento[0] for elemento in list_fechas],\n",
        "    'Fecha de vencimiento': [elemento[1] for elemento in list_fechas],\n",
        "    'Tipo de cobertura': np.random.choice(coverage_types, 10000),\n",
        "    'Modelo del coche': np.random.choice(car_models, 10000, p = probabilities),\n",
        "    'Año del coche': np.random.randint(2010, 2022, size = 10000),\n",
        "    'Valor asegurado': np.random.randint(10000, 50000, size = 10000),\n",
        "    'Deducible': np.random.choice([500, 600, 700], 10000),\n",
        "    'Estado del seguro': Vencidas,\n",
        "    'Gastos médicos': np.random.choice([0,1], 10000),\n",
        "    'Daños a terceros': np.random.choice([0,1], 10000)\n",
        "}\n",
        "\n",
        "# Crear DataFrame\n",
        "df = pd.DataFrame(data)\n",
        "\n",
        "# Mostrar el DataFrame\n",
        "df.head(5)"
      ]
    },
    {
      "cell_type": "markdown",
      "metadata": {
        "id": "wIY_M5XU2S2g"
      },
      "source": []
    },
    {
      "cell_type": "code",
      "execution_count": null,
      "metadata": {
        "id": "zY2_ShY42S2h"
      },
      "outputs": [],
      "source": [
        "df = pd.read_csv('polizas.csv') #un dataframe ya generado"
      ]
    },
    {
      "cell_type": "markdown",
      "metadata": {
        "id": "Jg_VqWAu2S2h"
      },
      "source": [
        "2. Análisis de Datos: seis análisis diferentes utilizando técnicas de visualización y estadística descriptiva"
      ]
    },
    {
      "cell_type": "code",
      "execution_count": null,
      "metadata": {
        "id": "C_fV61o52S2h"
      },
      "outputs": [],
      "source": [
        "import seaborn as sns\n",
        "import matplotlib.pyplot as plt\n",
        "from collections import Counter\n",
        "import pandas as pd\n",
        "\n",
        "\n",
        "# Análisis: Tipos de coches con más siniestros\n",
        "modelos_count = df['Modelo del coche'].value_counts()\n",
        "\n",
        "print(modelos_count.values)\n",
        "\n",
        "sns.barplot(x = modelos_count.values, y = modelos_count.index, orient='h')\n",
        "plt.title('Tipos de coches con más siniestros')\n",
        "plt.yticks(range(len(modelos_count)), modelos_count.index)\n",
        "plt.show()\n",
        "# Análisis: Meses con más activación de siniestros\n",
        "mes_inicio = pd.DatetimeIndex(df['Fecha de inicio']).month.value_counts()\n",
        "\n",
        "\n",
        "sns.lineplot(x = mes_inicio.index, y = mes_inicio.values)\n",
        "plt.title('Meses con más activación de siniestros')\n",
        "plt.xlabel('Meses')\n",
        "plt.ylabel('# Siniestros')\n",
        "\n"
      ]
    },
    {
      "cell_type": "code",
      "execution_count": null,
      "metadata": {
        "id": "RrS2KYRx2S2h"
      },
      "outputs": [],
      "source": [
        "#Análisis3: Tipo de cobertura que elige más cada modelo\n",
        "anal3 = df.groupby(['Modelo del coche'])['Tipo de cobertura'].value_counts().groupby(level=0).idxmax()\n",
        "print(\"Las coberturas más solicitadas para cada modelo son las siguientes:\")\n",
        "for modelo in anal3:\n",
        "  print(modelo[0], '----->', modelo[1])\n"
      ]
    },
    {
      "cell_type": "code",
      "execution_count": null,
      "metadata": {
        "id": "lH6QrV4u2S2h"
      },
      "outputs": [],
      "source": [
        "#Analisis4: Promedio de valor asegurado para cada modelo\n",
        "x = df.groupby(['Modelo del coche'])['Valor asegurado'].mean().sort_values(ascending=False)\n",
        "sns.barplot(x = x.values, y = x.index, orient='h')\n",
        "#####################\n",
        "\n",
        "plt.title(\"Promedio del valor asegurado por Modelo\")\n",
        "plt.show()\n",
        "\n",
        "#Analisis5: porcentaje de polizas vencidas y activas\n",
        "anal5 = df['Estado del seguro'].value_counts()\n",
        "\n",
        "plt.pie(anal5, labels=anal5.index, autopct='%1.1f%%', startangle=140)\n",
        "plt.title('Proporción de pólizas activas y vencidas')\n",
        "plt.axis('equal')  # Equal aspect ratio ensures that pie is drawn as a circle.\n",
        "plt.show()\n",
        "label = [ 'Ninguna', 'Daños a teceros','Gasto médico', 'Ambas']\n",
        "\n",
        "#Analisis6: De polizas vencidas, proporción de siniestros con gastos mediccos o daño a terceros\n",
        "anal6 = df.groupby(['Daños a terceros', 'Gastos médicos']).size()\n",
        "plt.pie(anal6, labels=label, autopct='%1.1f%%', startangle=140)\n",
        "plt.title('Proporción de daños a teceros y gastos médicos en siniestros')\n",
        "plt.axis('equal')  # Equal aspect ratio ensures that pie is drawn as a circle.\n",
        "plt.show()"
      ]
    },
    {
      "cell_type": "markdown",
      "metadata": {
        "id": "Au5UtTkY2S2h"
      },
      "source": [
        "3. Desarrollo del Modelo Predictivo:"
      ]
    },
    {
      "cell_type": "code",
      "execution_count": null,
      "metadata": {
        "id": "7Dw_Y7362S2h"
      },
      "outputs": [],
      "source": [
        "%%writefile modelos.py\n",
        "from sklearn.model_selection import train_test_split\n",
        "from sklearn.ensemble import RandomForestClassifier\n",
        "from sklearn.metrics import accuracy_score\n",
        "import pandas as pd\n",
        "\n",
        "def modelo(df):\n",
        "    # Codificación de variables categóricas\n",
        "    df_encoded = pd.get_dummies(df.drop(['Número de póliza', 'Fecha de inicio', 'Fecha de vencimiento'], axis=1))\n",
        "    # División de datos en entrenamiento y prueba\n",
        "    X = df_encoded.drop('Gastos médicos', axis=1)\n",
        "    y = df_encoded['Gastos médicos']\n",
        "    X_train, X_test, y_train, y_test = train_test_split(X, y, test_size=0.2, random_state=42)\n",
        "\n",
        "    # Entrenamiento del modelo\n",
        "    model = RandomForestClassifier(n_estimators=100, random_state=42)\n",
        "    model.fit(X_train, y_train)\n",
        "\n",
        "    # Evaluación del modelo\n",
        "    y_pred = model.predict(X_test)\n",
        "    accuracy = accuracy_score(y_test, y_pred)\n",
        "    print(f\"\\nPrecisión del modelo: {accuracy:.2f}\")\n",
        "    return model, X\n",
        "\n",
        "def predecir(df_x, model):\n",
        "    y_pred = model.predict(df_x)\n",
        "    if y_pred == [1]:\n",
        "        result = \"Se ha predicho que sí habrá gastos médicos\"\n",
        "    elif y_pred == [0]:\n",
        "        result = \"Se ha predicho que no habrá gastos médicos\"\n",
        "    else:\n",
        "        result = \"Hay un error en el código\"\n",
        "    return result"
      ]
    },
    {
      "cell_type": "code",
      "execution_count": null,
      "metadata": {
        "id": "6_ivD5IH2S2i"
      },
      "outputs": [],
      "source": [
        "pip install streamlit #instalar streamlit si no lo está\n",
        "!npm install localtunnel #instalar localtunnel si no lo está"
      ]
    },
    {
      "cell_type": "markdown",
      "metadata": {
        "id": "uEFwvycL2S2i"
      },
      "source": [
        "4. Despliegue de la Aplicación en Streamlit"
      ]
    },
    {
      "cell_type": "code",
      "execution_count": null,
      "metadata": {
        "id": "XTclHrik2S2i"
      },
      "outputs": [],
      "source": [
        "%%writefile app.py\n",
        "\n",
        "from modelos import modelo, predecir\n",
        "import pandas as pd\n",
        "df = pd.read_csv('polizas.csv')\n",
        "import streamlit as st\n",
        "\n",
        "# Interfaz de usuario\n",
        "st.title('Predicción de Gastos Médicos')\n",
        "st.write('Ingrese los detalles del seguro para predecir si habrá gastos médicos.')\n",
        "\n",
        "# Formulario de entrada de datos\n",
        "form = st.form(key='insurance_form')\n",
        "coverage_type = form.selectbox('Tipo de cobertura', df['Tipo de cobertura'].unique())\n",
        "car_model = form.selectbox('Modelo del coche', df['Modelo del coche'].unique())\n",
        "car_year = form.number_input('Año del coche', min_value=2010, max_value=2022)\n",
        "insured_value = form.number_input('Valor asegurado', min_value=10000, max_value=50000)\n",
        "deductible = form.select_slider('Deducible', options=[500, 600, 700])\n",
        "insurance_state = form.selectbox('Estado del seguro', ['Al día', 'Vencido'])\n",
        "third_party_damage = form.checkbox('Daños a terceros')\n",
        "if third_party_damage:\n",
        "    third_party_damage = 1\n",
        "else:\n",
        "    third_party_damage  = 0\n",
        "submit_button = form.form_submit_button(label='Predecir')\n",
        "\n",
        "# Preprocesamiento de datos de entrada\n",
        "if submit_button:\n",
        "    model, df_X_encoded = modelo(df)\n",
        "    x = {'Tipo de cobertura': coverage_type, 'Modelo del coche':car_model,\n",
        "    'Año del coche': car_year, 'Valor asegurado': insured_value,'Deducible': deductible,'Estado del seguro': insurance_state,\n",
        "    'Daños a terceros': third_party_damage}\n",
        "    df_x = pd.get_dummies( pd.DataFrame([x]) )\n",
        "    df_x_encoded = df_x.reindex(columns=df_X_encoded.columns, fill_value=False)\n",
        "# Predicción\n",
        "    result = predecir(df_x_encoded, model)\n",
        "    st.write(result)\n"
      ]
    },
    {
      "cell_type": "code",
      "execution_count": null,
      "metadata": {
        "id": "bP7n3TUq2S2i"
      },
      "outputs": [],
      "source": [
        "!streamlit run app.py &>/content/logs.txt & npx localtunnel --port 8501 & curl ipv4.icanhazip.com\n",
        "\n",
        "#Correr aplicación en google collab"
      ]
    }
  ],
  "metadata": {
    "language_info": {
      "name": "python"
    },
    "colab": {
      "provenance": [],
      "include_colab_link": true
    }
  },
  "nbformat": 4,
  "nbformat_minor": 0
}